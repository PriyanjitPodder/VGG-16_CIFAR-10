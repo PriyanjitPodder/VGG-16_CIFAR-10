{
  "nbformat": 4,
  "nbformat_minor": 0,
  "metadata": {
    "colab": {
      "name": "ObjectClassification_CIFAR10.ipynb",
      "provenance": [],
      "collapsed_sections": []
    },
    "kernelspec": {
      "name": "python3",
      "display_name": "Python 3"
    },
    "language_info": {
      "name": "python"
    },
    "accelerator": "GPU"
  },
  "cells": [
    {
      "cell_type": "code",
      "metadata": {
        "id": "EWfQ8wcmDBJ9"
      },
      "source": [
        "import numpy as np \n",
        "import pandas as pd \n",
        "import os\n",
        "import matplotlib.pyplot as plt\n",
        "from sklearn import preprocessing\n",
        "from sklearn.metrics import roc_curve, auc, precision_recall_curve\n",
        "from sklearn.model_selection import train_test_split\n",
        "import scipy as sp"
      ],
      "execution_count": 1,
      "outputs": []
    },
    {
      "cell_type": "code",
      "metadata": {
        "id": "_MXbnuZVDolG"
      },
      "source": [
        "import tensorflow as tf         \n",
        "from tensorflow.keras.utils import to_categorical    \n",
        "import tensorflow.keras.layers as tfl\n",
        "from keras.datasets import cifar10\n",
        "from keras.applications import vgg16\n",
        "from keras.preprocessing.image import ImageDataGenerator"
      ],
      "execution_count": 2,
      "outputs": []
    },
    {
      "cell_type": "code",
      "metadata": {
        "id": "pfz857caDvGs",
        "colab": {
          "base_uri": "https://localhost:8080/"
        },
        "outputId": "f3930ecc-bd10-4f49-e9e3-f204cb875f4a"
      },
      "source": [
        "(X_train, y_train), (X_test, y_test) = cifar10.load_data()"
      ],
      "execution_count": 3,
      "outputs": [
        {
          "output_type": "stream",
          "name": "stdout",
          "text": [
            "Downloading data from https://www.cs.toronto.edu/~kriz/cifar-10-python.tar.gz\n",
            "170500096/170498071 [==============================] - 3s 0us/step\n",
            "170508288/170498071 [==============================] - 3s 0us/step\n"
          ]
        }
      ]
    },
    {
      "cell_type": "code",
      "metadata": {
        "colab": {
          "base_uri": "https://localhost:8080/"
        },
        "id": "ub_ISE0cD1u6",
        "outputId": "23c1e26c-113d-493f-839a-3361459e1b9b"
      },
      "source": [
        "y_train = to_categorical(y_train)\n",
        "y_test = to_categorical(y_test)\n",
        "y_train.shape"
      ],
      "execution_count": 4,
      "outputs": [
        {
          "output_type": "execute_result",
          "data": {
            "text/plain": [
              "(50000, 10)"
            ]
          },
          "metadata": {},
          "execution_count": 4
        }
      ]
    },
    {
      "cell_type": "code",
      "metadata": {
        "id": "BAedaWK8D42_"
      },
      "source": [
        "def resize(img):\n",
        "    numberofImage = img.shape[0]\n",
        "    new_array = np.zeros((numberofImage,48,48,3))\n",
        "    for i in range(numberofImage):\n",
        "        new_array[i] = tf.image.resize(img[i],(48,48))\n",
        "    return new_array\n"
      ],
      "execution_count": 5,
      "outputs": []
    },
    {
      "cell_type": "code",
      "metadata": {
        "id": "lQhITdORD7eg"
      },
      "source": [
        "X_train = resize(X_train)"
      ],
      "execution_count": 6,
      "outputs": []
    },
    {
      "cell_type": "code",
      "metadata": {
        "id": "nHJyE888D9aH"
      },
      "source": [
        "X_test = resize(X_test)"
      ],
      "execution_count": 7,
      "outputs": []
    },
    {
      "cell_type": "code",
      "metadata": {
        "id": "KlAAX-XkEGYD",
        "colab": {
          "base_uri": "https://localhost:8080/"
        },
        "outputId": "690fa108-8f14-419e-e910-e661dafe8400"
      },
      "source": [
        "VGG16_model_base = tf.keras.applications.VGG16(weights='imagenet', \n",
        "                       include_top=False, \n",
        "                       input_shape=(48, 48, 3))"
      ],
      "execution_count": 8,
      "outputs": [
        {
          "output_type": "stream",
          "name": "stdout",
          "text": [
            "Downloading data from https://storage.googleapis.com/tensorflow/keras-applications/vgg16/vgg16_weights_tf_dim_ordering_tf_kernels_notop.h5\n",
            "58892288/58889256 [==============================] - 1s 0us/step\n",
            "58900480/58889256 [==============================] - 1s 0us/step\n"
          ]
        }
      ]
    },
    {
      "cell_type": "code",
      "metadata": {
        "colab": {
          "base_uri": "https://localhost:8080/"
        },
        "id": "olxP9ocGEJs3",
        "outputId": "332fae2c-732d-409e-ac9d-47d99308cabc"
      },
      "source": [
        "VGG16_model_base.summary()"
      ],
      "execution_count": 9,
      "outputs": [
        {
          "output_type": "stream",
          "name": "stdout",
          "text": [
            "Model: \"vgg16\"\n",
            "_________________________________________________________________\n",
            " Layer (type)                Output Shape              Param #   \n",
            "=================================================================\n",
            " input_1 (InputLayer)        [(None, 48, 48, 3)]       0         \n",
            "                                                                 \n",
            " block1_conv1 (Conv2D)       (None, 48, 48, 64)        1792      \n",
            "                                                                 \n",
            " block1_conv2 (Conv2D)       (None, 48, 48, 64)        36928     \n",
            "                                                                 \n",
            " block1_pool (MaxPooling2D)  (None, 24, 24, 64)        0         \n",
            "                                                                 \n",
            " block2_conv1 (Conv2D)       (None, 24, 24, 128)       73856     \n",
            "                                                                 \n",
            " block2_conv2 (Conv2D)       (None, 24, 24, 128)       147584    \n",
            "                                                                 \n",
            " block2_pool (MaxPooling2D)  (None, 12, 12, 128)       0         \n",
            "                                                                 \n",
            " block3_conv1 (Conv2D)       (None, 12, 12, 256)       295168    \n",
            "                                                                 \n",
            " block3_conv2 (Conv2D)       (None, 12, 12, 256)       590080    \n",
            "                                                                 \n",
            " block3_conv3 (Conv2D)       (None, 12, 12, 256)       590080    \n",
            "                                                                 \n",
            " block3_pool (MaxPooling2D)  (None, 6, 6, 256)         0         \n",
            "                                                                 \n",
            " block4_conv1 (Conv2D)       (None, 6, 6, 512)         1180160   \n",
            "                                                                 \n",
            " block4_conv2 (Conv2D)       (None, 6, 6, 512)         2359808   \n",
            "                                                                 \n",
            " block4_conv3 (Conv2D)       (None, 6, 6, 512)         2359808   \n",
            "                                                                 \n",
            " block4_pool (MaxPooling2D)  (None, 3, 3, 512)         0         \n",
            "                                                                 \n",
            " block5_conv1 (Conv2D)       (None, 3, 3, 512)         2359808   \n",
            "                                                                 \n",
            " block5_conv2 (Conv2D)       (None, 3, 3, 512)         2359808   \n",
            "                                                                 \n",
            " block5_conv3 (Conv2D)       (None, 3, 3, 512)         2359808   \n",
            "                                                                 \n",
            " block5_pool (MaxPooling2D)  (None, 1, 1, 512)         0         \n",
            "                                                                 \n",
            "=================================================================\n",
            "Total params: 14,714,688\n",
            "Trainable params: 14,714,688\n",
            "Non-trainable params: 0\n",
            "_________________________________________________________________\n"
          ]
        }
      ]
    },
    {
      "cell_type": "code",
      "metadata": {
        "id": "zU6UzgtCEL_Z"
      },
      "source": [
        "last = VGG16_model_base.get_layer('block3_pool').output"
      ],
      "execution_count": 10,
      "outputs": []
    },
    {
      "cell_type": "code",
      "metadata": {
        "id": "mSPrT8miEOKs"
      },
      "source": [
        "x = tf.keras.layers.GlobalAveragePooling2D()(last)\n",
        "x = tf.keras.layers.BatchNormalization()(x)\n",
        "x = tf.keras.layers.Dense(256, activation='relu')(x)\n",
        "x = tf.keras.layers.Dense(256, activation='relu')(x)\n",
        "x = tf.keras.layers.Dropout(0.6)(x)\n",
        "pred = tf.keras.layers.Dense(10, activation='softmax')(x)\n",
        "VGG16_model = tf.keras.Model(VGG16_model_base.input, pred)"
      ],
      "execution_count": 12,
      "outputs": []
    },
    {
      "cell_type": "code",
      "metadata": {
        "id": "OvQP1l5pEQRF"
      },
      "source": [
        "for layer in VGG16_model_base.layers:\n",
        "     layer.trainable = False"
      ],
      "execution_count": 13,
      "outputs": []
    },
    {
      "cell_type": "code",
      "metadata": {
        "id": "KhmFhsrMESHr"
      },
      "source": [
        "VGG16_model.compile(loss='binary_crossentropy',\n",
        "              optimizer=tf.keras.optimizers.Adam(learning_rate=0.0001),\n",
        "              metrics=['accuracy'])"
      ],
      "execution_count": 14,
      "outputs": []
    },
    {
      "cell_type": "code",
      "metadata": {
        "id": "JU7Lk8c-EUSJ"
      },
      "source": [
        "train_datagen = ImageDataGenerator(rescale=1. / 255, horizontal_flip=False)\n",
        "train_datagen.fit(X_train)\n",
        "train_generator = train_datagen.flow(X_train,\n",
        "                                     y_train, \n",
        "                                     batch_size=32)\n",
        "\n",
        "val_datagen = ImageDataGenerator(rescale=1. / 255,horizontal_flip=False)\n",
        "val_datagen.fit(X_test)\n",
        "val_generator = val_datagen.flow(X_test,\n",
        "                                 y_test,\n",
        "                                 batch_size=32)"
      ],
      "execution_count": 15,
      "outputs": []
    },
    {
      "cell_type": "code",
      "metadata": {
        "colab": {
          "base_uri": "https://localhost:8080/"
        },
        "id": "BrXGP_XeEXU5",
        "outputId": "66bc87d7-6294-4516-f14d-c1a53fb659a3"
      },
      "source": [
        "train_steps_epoch = X_train.shape[0] // 32\n",
        "val_steps_epoch = X_test.shape[0] // 32\n",
        "\n",
        "hist = VGG16_model.fit(X_train,y_train,\n",
        "                steps_per_epoch=train_steps_epoch,\n",
        "                validation_data=(X_test,y_test),\n",
        "                validation_steps=val_steps_epoch,epochs=10, verbose=1)"
      ],
      "execution_count": 17,
      "outputs": [
        {
          "output_type": "stream",
          "name": "stdout",
          "text": [
            "Epoch 1/10\n",
            "1560/1562 [============================>.] - ETA: 0s - loss: 0.1995 - accuracy: 0.5849WARNING:tensorflow:Your input ran out of data; interrupting training. Make sure that your dataset or generator can generate at least `steps_per_epoch * epochs` batches (in this case, 312 batches). You may need to use the repeat() function when building your dataset.\n",
            "1562/1562 [==============================] - 36s 23ms/step - loss: 0.1994 - accuracy: 0.5849 - val_loss: 0.1610 - val_accuracy: 0.6681\n",
            "Epoch 2/10\n",
            "1562/1562 [==============================] - 31s 20ms/step - loss: 0.1774 - accuracy: 0.6334\n",
            "Epoch 3/10\n",
            "1562/1562 [==============================] - 31s 20ms/step - loss: 0.1653 - accuracy: 0.6623\n",
            "Epoch 4/10\n",
            "1562/1562 [==============================] - 31s 20ms/step - loss: 0.1559 - accuracy: 0.6806\n",
            "Epoch 5/10\n",
            "1562/1562 [==============================] - 31s 20ms/step - loss: 0.1507 - accuracy: 0.6934\n",
            "Epoch 6/10\n",
            "1562/1562 [==============================] - 31s 20ms/step - loss: 0.1447 - accuracy: 0.7067\n",
            "Epoch 7/10\n",
            "1562/1562 [==============================] - 31s 20ms/step - loss: 0.1411 - accuracy: 0.7109\n",
            "Epoch 8/10\n",
            "1562/1562 [==============================] - 31s 20ms/step - loss: 0.1383 - accuracy: 0.7183\n",
            "Epoch 9/10\n",
            "1562/1562 [==============================] - 31s 20ms/step - loss: 0.1358 - accuracy: 0.7246\n",
            "Epoch 10/10\n",
            "1102/1562 [====================>.........] - ETA: 9s - loss: 0.1328 - accuracy: 0.7301WARNING:tensorflow:Your input ran out of data; interrupting training. Make sure that your dataset or generator can generate at least `steps_per_epoch * epochs` batches (in this case, 15620 batches). You may need to use the repeat() function when building your dataset.\n",
            "1562/1562 [==============================] - 22s 14ms/step - loss: 0.1328 - accuracy: 0.7301\n"
          ]
        }
      ]
    },
    {
      "cell_type": "code",
      "metadata": {
        "colab": {
          "base_uri": "https://localhost:8080/",
          "height": 748
        },
        "id": "lWoLhd_b4fOa",
        "outputId": "2d65228b-7f54-4764-fe76-268da3adf2d2"
      },
      "source": [
        "plt.figure(figsize=(6,6))\n",
        "plt.plot(hist.history['loss'], color='b', label=\"Training loss\")\n",
        "#plt.plot(hist.history['val_loss'], color='r', label=\"Validation loss\")\n",
        "plt.legend()\n",
        "plt.show()\n",
        "\n",
        "plt.figure()\n",
        "\n",
        "plt.figure(figsize=(6,6))\n",
        "plt.plot(hist.history['accuracy'], color='b', label=\"Training accuracy\")\n",
        "#plt.plot(hist.history['val_accuracy'], color='r',label=\"Validation accuracy\")\n",
        "plt.legend(loc = \"lower right\")\n",
        "plt.show()"
      ],
      "execution_count": 18,
      "outputs": [
        {
          "output_type": "display_data",
          "data": {
            "image/png": "[encoded data removed]",
            "text/plain": [
              "<Figure size 432x432 with 1 Axes>"
            ]
          },
          "metadata": {
            "needs_background": "light"
          }
        },
        {
          "output_type": "display_data",
          "data": {
            "text/plain": [
              "<Figure size 432x288 with 0 Axes>"
            ]
          },
          "metadata": {}
        },
        {
          "output_type": "display_data",
          "data": {
            "image/png": "[encoded data removed]",
            "text/plain": [
              "<Figure size 432x432 with 1 Axes>"
            ]
          },
          "metadata": {
            "needs_background": "light"
          }
        }
      ]
    },
    {
      "cell_type": "code",
      "metadata": {
        "id": "Z0aWM66wKTLD"
      },
      "source": [
        "predictions = VGG16_model.predict(X_test/255.)"
      ],
      "execution_count": 20,
      "outputs": []
    },
    {
      "cell_type": "code",
      "metadata": {
        "id": "W5iAgNpWKWcq"
      },
      "source": [
        "test_labels = list(y_test.squeeze())\n",
        "predictions = list(predictions.argmax(axis=1))"
      ],
      "execution_count": 21,
      "outputs": []
    },
    {
      "cell_type": "code",
      "metadata": {
        "colab": {
          "base_uri": "https://localhost:8080/"
        },
        "id": "zlDijltzER-_",
        "outputId": "a40abdae-615a-46e0-b88a-97f84c15b186"
      },
      "source": [
        "evaluation = VGG16_model.evaluate(X_test, y_test)\n",
        "print(f'Test Accuracy : {evaluation[1] * 100:.2f}%')"
      ],
      "execution_count": 24,
      "outputs": [
        {
          "output_type": "stream",
          "name": "stdout",
          "text": [
            "313/313 [==============================] - 5s 14ms/step - loss: 0.1209 - accuracy: 0.7485\n",
            "Test Accuracy : 74.85%\n"
          ]
        }
      ]
    },
    {
      "cell_type": "code",
      "metadata": {
        "id": "uS47sm72YW1z"
      },
      "source": [
        ""
      ],
      "execution_count": null,
      "outputs": []
    }
  ]
}